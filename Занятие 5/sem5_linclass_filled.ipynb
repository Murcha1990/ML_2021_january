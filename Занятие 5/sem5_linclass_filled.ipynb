{
 "cells": [
  {
   "cell_type": "markdown",
   "metadata": {},
   "source": [
    "# Семинар по бинарной линейной классификации\n",
    "\n",
    "## Теоретическая часть\n",
    "\n",
    "### Предсказания в бинарной линейной классификации\n",
    "__Вспомнить:__\n",
    "* Как выполняются предсказания в бинарной линейной классификации?\n",
    "* Как интерпретировать веса?\n",
    "* Вспомните обозначения $\\langle \\cdot, \\cdot \\rangle$, $sign(z)$, $[z>a]$.\n",
    "\n",
    "#### Задача 1.\n",
    "Какое предсказание вернет бинарный линейный классификатор $a(x) = sign(\\langle w, x \\rangle+w_0)$ для объекта $x=(1, 0, 0, 1, 1)$ при использовании весов $w=(0.1, -0.2, 0.5, -1.1, 0)$ и $w_0=0.35$?\n",
    "\n",
    "__Решение.__\n",
    "Запишем скалярное произведение: $\\langle w, x \\rangle = w_1 x_1 + \\dots + w_d x_d$, где $d$ - размерность обоих векторов (число признаков). В нашей задаче $d=5$. Итак, в скобках получится значение $0.1\\cdot1 - 0.2\\cdot0 + 0.5\\cdot 0 -1.1 \\cdot 1 + 0 \\cdot 1 + 0.3 = -0.7$. Его знак отрицательный, значит $a(x) = -1$.\n",
    "\n",
    "#### Задача 2.\n",
    "Визуализируйте разделящую поверхность классификатора $a(x) = sign(\\langle w, x \\rangle+w_0)$ для $w=(-1, 2)$, $w_0=0.5$, задача бинарной классификации с двумя признаками.\n",
    "\n",
    "__Решение.__\n",
    "\n",
    "Предсказания в линейной классификации выполняются по формуле $a(x) = sign(\\langle w, x\\rangle +w_0)$, то есть класс +1, если выражение в скобках больше 0, и -1, если выражение в скобках меньше 0. Если выражение в скобках равно 0, считаем, что отказываемся от классификации или выбираем случайный класс (на практике такая ситуация встречается очень редко). Соответственно, мы можем сделать такое предсказание в каждой точке признакового пространства, то есть для любого возможного объекта, и получить области классов +1 и -1. Разделяющей границей этих двух областей будет прямая, поэтому классификация линейная.\n",
    "\n",
    "Разберемся, почему разделяющей границей будет прямая. Вспомним, что уравнение $w_1 x_1 + w_2 x_2 + w_0 = 0$ задает прямую на плоскости в координатах $x_1-x_2$ (мы обычно обозначаем эти координаты $d_1-d_2$, чтобы не путать $x_1$ - первый признак или первый объект в выборке; в данном контексте - первый признак). Все точки $x=(x_1, x_2)$, для которых $w_1 x_1 + w_2 x_2 + w_0 > 0$, находятся с одной стороны от прямой, а все точки, для которых $w_1 x_1 + w_2 x_2 + w_0 < 0$, с другой стороны от прямой. А эти два условия как раз и проверяются в бинарном линейной классификаторе.\n",
    "\n",
    "В нашем случае прямая задается уравнением $-x_1 + 2 x_2 + 0.5 = 0$. Построим ее по точкам: при $x_1=0$ выполнено $2 x_2+0.5=0$, то есть $x_2=-1/4$; при $x_1=1$ выполнено $2 x_2 -0.5=0$, то есть $x_2=1/4$. Проводим прямую через точки $(0, -1/4)$ и $(1, 1/4)$. Теперь выбираем любую точку, не принадлежащую прямой, например $(0, 1/4)$. Проверяем, какой будет знак выражения $-x_1 + 2 x_2 + 0.5$: $0 + 0.5 + 0.5 = 1 > 0$. Значит, в полуплоскости, где находится эта точка, мы предсказываем класс +1, а в другой - класс -1.\n",
    "\n",
    "### Вспомнить\n",
    "* Какие метрики бинарной классификации вы знаете?\n",
    "* Какие проблемы есть у метрики accuracy? в каких случаях она нам не подходит?\n",
    "* Что такое матрица ошибок?\n",
    "\n",
    "## Практическая часть\n",
    "В практической части мы обучим линейный классификатор на данных кредитного скорринга, проанализируем веса модели, научимся работать с категориальными признаками в линейных моделях. Далее поработаем с метриками, сравних их между собой и найдем оптимиальные гиперпараметры в модели."
   ]
  },
  {
   "cell_type": "code",
   "execution_count": 1,
   "metadata": {},
   "outputs": [],
   "source": [
    "import pandas as pd"
   ]
  },
  {
   "cell_type": "markdown",
   "metadata": {},
   "source": [
    "Мы будем работать с [данными клиентов банка](https://archive.ics.uci.edu/ml/datasets/statlog+(german+credit+data) (задача кредитного скоринга). Для целей семинара данные были преобразованы в немного другой формат.\n",
    "\n",
    "Значение признаков:\n",
    "* account: банковский счет (-1: отриц. баланс, 0: нет счета, 1: до 200 ед., 2: более 200 ед.)\n",
    "* duration: на какой период запрашивают кредит\n",
    "* credit_history: рейтинг по кредитной истории (от 0 - отличная кр. история до 4 - критическая ситуация с кредитами)\n",
    "* amount: на какую сумму запрашивают кредит\n",
    "* savings: сберегательный счет (0: нет, 1: < 100, 2: 100 <= ... < 500, 3: 500 <= ... < 1000, 4:  >= 1000)\n",
    "* employment: срок работы на текущей позиции (0: не работает, 1: до 1 года, 2: от 1 до 4 лет, 3: от 4 до 7 лет, 4: более 7 лет)\n",
    "* guarantors: 1 - есть поручители, 0 - нет\n",
    "* residence:  сколько лет резидент\n",
    "* age: возраст, деленный на 100\n",
    "* credits_number: число кредитов\n",
    "* job: 0: не работает, 1: неквалифицированный, 2: квалифицированный специалист, 3: высокая должность или бизнес\n",
    "* maintenance_people: число людей, которых обеспечивает заемщик\n",
    "* telephone: указан ли телефон (1: да, 0: нет)\n",
    "* foreign: 1: иностранец, 0: нет\n",
    "* real_estate: 1: есть недвижимость, 0: нет недвижимости\n",
    "* life_insurance: 1: оформлено страхование жизни, 0, нет страховки\n",
    "* car: 1: есть автомобиль, 0: нет автомобиля\n",
    "* housing_rent: 1: платит за съем жилья, 0: не платит за съем жилья\n",
    "* sex: пол - 1: муж., 0: жен.\n",
    "* purpose: на какую цель запрашивают кредит (из нескольких вариантов)\n",
    "* target: 1: кредит выдан, 0: в кредите отказано\n",
    "\n",
    "Требуется решить задачу предсказания значения в последнем столбце, то есть задачу бинарной классификации."
   ]
  },
  {
   "cell_type": "markdown",
   "metadata": {},
   "source": [
    "По описанию данных понятно, что все признаки числовые (включая вещественные, порядковые, бинарные), кроме предпоследнего, который является категориальным."
   ]
  },
  {
   "cell_type": "code",
   "execution_count": 2,
   "metadata": {},
   "outputs": [
    {
     "name": "stdout",
     "output_type": "stream",
     "text": [
      "Requirement already satisfied: xlrd in c:\\programdata\\miniconda3\\lib\\site-packages (2.0.1)\n"
     ]
    }
   ],
   "source": [
    "!pip install xlrd"
   ]
  },
  {
   "cell_type": "code",
   "execution_count": 3,
   "metadata": {},
   "outputs": [],
   "source": [
    "tab = pd.read_excel(\"https://github.com/nadiinchi/voronovo_seminar_materials/blob/master/base_track/seminars/scoring.xls?raw=true\")"
   ]
  },
  {
   "cell_type": "code",
   "execution_count": 4,
   "metadata": {},
   "outputs": [
    {
     "data": {
      "text/plain": [
       "pandas.core.frame.DataFrame"
      ]
     },
     "execution_count": 4,
     "metadata": {},
     "output_type": "execute_result"
    }
   ],
   "source": [
    "type(tab)"
   ]
  },
  {
   "cell_type": "code",
   "execution_count": 5,
   "metadata": {},
   "outputs": [
    {
     "data": {
      "text/html": [
       "<div>\n",
       "<style scoped>\n",
       "    .dataframe tbody tr th:only-of-type {\n",
       "        vertical-align: middle;\n",
       "    }\n",
       "\n",
       "    .dataframe tbody tr th {\n",
       "        vertical-align: top;\n",
       "    }\n",
       "\n",
       "    .dataframe thead th {\n",
       "        text-align: right;\n",
       "    }\n",
       "</style>\n",
       "<table border=\"1\" class=\"dataframe\">\n",
       "  <thead>\n",
       "    <tr style=\"text-align: right;\">\n",
       "      <th></th>\n",
       "      <th>account</th>\n",
       "      <th>duration</th>\n",
       "      <th>credit_history</th>\n",
       "      <th>amount</th>\n",
       "      <th>savings</th>\n",
       "      <th>employment</th>\n",
       "      <th>guarantors</th>\n",
       "      <th>residence</th>\n",
       "      <th>age</th>\n",
       "      <th>credits_number</th>\n",
       "      <th>...</th>\n",
       "      <th>maintenance_people</th>\n",
       "      <th>telephone</th>\n",
       "      <th>foreign</th>\n",
       "      <th>real_estate</th>\n",
       "      <th>life_insurance</th>\n",
       "      <th>car</th>\n",
       "      <th>housing_rent</th>\n",
       "      <th>sex</th>\n",
       "      <th>purpose</th>\n",
       "      <th>target</th>\n",
       "    </tr>\n",
       "  </thead>\n",
       "  <tbody>\n",
       "    <tr>\n",
       "      <th>0</th>\n",
       "      <td>1</td>\n",
       "      <td>0.18</td>\n",
       "      <td>2</td>\n",
       "      <td>0.13110</td>\n",
       "      <td>2</td>\n",
       "      <td>2</td>\n",
       "      <td>1</td>\n",
       "      <td>4</td>\n",
       "      <td>0.34</td>\n",
       "      <td>1</td>\n",
       "      <td>...</td>\n",
       "      <td>1</td>\n",
       "      <td>0</td>\n",
       "      <td>1</td>\n",
       "      <td>0</td>\n",
       "      <td>0</td>\n",
       "      <td>1</td>\n",
       "      <td>0</td>\n",
       "      <td>1</td>\n",
       "      <td>business</td>\n",
       "      <td>1</td>\n",
       "    </tr>\n",
       "    <tr>\n",
       "      <th>1</th>\n",
       "      <td>-1</td>\n",
       "      <td>0.18</td>\n",
       "      <td>0</td>\n",
       "      <td>0.15520</td>\n",
       "      <td>1</td>\n",
       "      <td>3</td>\n",
       "      <td>1</td>\n",
       "      <td>1</td>\n",
       "      <td>0.31</td>\n",
       "      <td>1</td>\n",
       "      <td>...</td>\n",
       "      <td>1</td>\n",
       "      <td>1</td>\n",
       "      <td>1</td>\n",
       "      <td>0</td>\n",
       "      <td>1</td>\n",
       "      <td>0</td>\n",
       "      <td>0</td>\n",
       "      <td>1</td>\n",
       "      <td>business</td>\n",
       "      <td>1</td>\n",
       "    </tr>\n",
       "    <tr>\n",
       "      <th>2</th>\n",
       "      <td>-1</td>\n",
       "      <td>0.12</td>\n",
       "      <td>2</td>\n",
       "      <td>0.04510</td>\n",
       "      <td>1</td>\n",
       "      <td>3</td>\n",
       "      <td>1</td>\n",
       "      <td>4</td>\n",
       "      <td>0.21</td>\n",
       "      <td>1</td>\n",
       "      <td>...</td>\n",
       "      <td>1</td>\n",
       "      <td>0</td>\n",
       "      <td>1</td>\n",
       "      <td>0</td>\n",
       "      <td>1</td>\n",
       "      <td>0</td>\n",
       "      <td>1</td>\n",
       "      <td>1</td>\n",
       "      <td>retraining</td>\n",
       "      <td>0</td>\n",
       "    </tr>\n",
       "    <tr>\n",
       "      <th>3</th>\n",
       "      <td>-1</td>\n",
       "      <td>0.30</td>\n",
       "      <td>0</td>\n",
       "      <td>0.40360</td>\n",
       "      <td>0</td>\n",
       "      <td>1</td>\n",
       "      <td>1</td>\n",
       "      <td>3</td>\n",
       "      <td>0.25</td>\n",
       "      <td>3</td>\n",
       "      <td>...</td>\n",
       "      <td>1</td>\n",
       "      <td>0</td>\n",
       "      <td>1</td>\n",
       "      <td>0</td>\n",
       "      <td>0</td>\n",
       "      <td>1</td>\n",
       "      <td>0</td>\n",
       "      <td>1</td>\n",
       "      <td>business</td>\n",
       "      <td>1</td>\n",
       "    </tr>\n",
       "    <tr>\n",
       "      <th>4</th>\n",
       "      <td>0</td>\n",
       "      <td>0.36</td>\n",
       "      <td>2</td>\n",
       "      <td>0.09095</td>\n",
       "      <td>1</td>\n",
       "      <td>2</td>\n",
       "      <td>1</td>\n",
       "      <td>4</td>\n",
       "      <td>0.37</td>\n",
       "      <td>1</td>\n",
       "      <td>...</td>\n",
       "      <td>1</td>\n",
       "      <td>1</td>\n",
       "      <td>1</td>\n",
       "      <td>0</td>\n",
       "      <td>0</td>\n",
       "      <td>0</td>\n",
       "      <td>0</td>\n",
       "      <td>1</td>\n",
       "      <td>education</td>\n",
       "      <td>0</td>\n",
       "    </tr>\n",
       "  </tbody>\n",
       "</table>\n",
       "<p>5 rows × 21 columns</p>\n",
       "</div>"
      ],
      "text/plain": [
       "   account  duration  credit_history   amount  savings  employment  \\\n",
       "0        1      0.18               2  0.13110        2           2   \n",
       "1       -1      0.18               0  0.15520        1           3   \n",
       "2       -1      0.12               2  0.04510        1           3   \n",
       "3       -1      0.30               0  0.40360        0           1   \n",
       "4        0      0.36               2  0.09095        1           2   \n",
       "\n",
       "   guarantors  residence   age  credits_number  ...  maintenance_people  \\\n",
       "0           1          4  0.34               1  ...                   1   \n",
       "1           1          1  0.31               1  ...                   1   \n",
       "2           1          4  0.21               1  ...                   1   \n",
       "3           1          3  0.25               3  ...                   1   \n",
       "4           1          4  0.37               1  ...                   1   \n",
       "\n",
       "   telephone  foreign  real_estate  life_insurance  car  housing_rent  sex  \\\n",
       "0          0        1            0               0    1             0    1   \n",
       "1          1        1            0               1    0             0    1   \n",
       "2          0        1            0               1    0             1    1   \n",
       "3          0        1            0               0    1             0    1   \n",
       "4          1        1            0               0    0             0    1   \n",
       "\n",
       "      purpose target  \n",
       "0    business      1  \n",
       "1    business      1  \n",
       "2  retraining      0  \n",
       "3    business      1  \n",
       "4   education      0  \n",
       "\n",
       "[5 rows x 21 columns]"
      ]
     },
     "execution_count": 5,
     "metadata": {},
     "output_type": "execute_result"
    }
   ],
   "source": [
    "tab.head() # вывести первые строки"
   ]
  },
  {
   "cell_type": "markdown",
   "metadata": {},
   "source": [
    "По строкам - объекты (клиенты), по столбцам - признаки, последний столбец - целевая переменная (1 - кредит выдан, 0 - в кредите отказано)."
   ]
  },
  {
   "cell_type": "code",
   "execution_count": 6,
   "metadata": {},
   "outputs": [
    {
     "data": {
      "text/plain": [
       "account                 int64\n",
       "duration              float64\n",
       "credit_history          int64\n",
       "amount                float64\n",
       "savings                 int64\n",
       "employment              int64\n",
       "guarantors              int64\n",
       "residence               int64\n",
       "age                   float64\n",
       "credits_number          int64\n",
       "job                     int64\n",
       "maintenance_people      int64\n",
       "telephone               int64\n",
       "foreign                 int64\n",
       "real_estate             int64\n",
       "life_insurance          int64\n",
       "car                     int64\n",
       "housing_rent            int64\n",
       "sex                     int64\n",
       "purpose                object\n",
       "target                  int64\n",
       "dtype: object"
      ]
     },
     "execution_count": 6,
     "metadata": {},
     "output_type": "execute_result"
    }
   ],
   "source": [
    "tab.dtypes # типы столбцов"
   ]
  },
  {
   "cell_type": "markdown",
   "metadata": {},
   "source": [
    "Признаки в основном числовые."
   ]
  },
  {
   "cell_type": "code",
   "execution_count": 7,
   "metadata": {},
   "outputs": [
    {
     "data": {
      "text/plain": [
       "1    300\n",
       "0    300\n",
       "Name: target, dtype: int64"
      ]
     },
     "execution_count": 7,
     "metadata": {},
     "output_type": "execute_result"
    }
   ],
   "source": [
    "tab[\"target\"].value_counts()"
   ]
  },
  {
   "cell_type": "markdown",
   "metadata": {},
   "source": [
    "Классы сбалансированы."
   ]
  },
  {
   "cell_type": "markdown",
   "metadata": {},
   "source": [
    "Создаем матрицу объекты-признаки и матрицу ответов. Удалим пока столбец с категориальной переменной, чтобы оставить только числовые признаки."
   ]
  },
  {
   "cell_type": "code",
   "execution_count": 8,
   "metadata": {},
   "outputs": [],
   "source": [
    "X = tab[tab.columns[:-2]]\n",
    "y = tab[\"target\"]"
   ]
  },
  {
   "cell_type": "code",
   "execution_count": 9,
   "metadata": {},
   "outputs": [
    {
     "data": {
      "text/html": [
       "<div>\n",
       "<style scoped>\n",
       "    .dataframe tbody tr th:only-of-type {\n",
       "        vertical-align: middle;\n",
       "    }\n",
       "\n",
       "    .dataframe tbody tr th {\n",
       "        vertical-align: top;\n",
       "    }\n",
       "\n",
       "    .dataframe thead th {\n",
       "        text-align: right;\n",
       "    }\n",
       "</style>\n",
       "<table border=\"1\" class=\"dataframe\">\n",
       "  <thead>\n",
       "    <tr style=\"text-align: right;\">\n",
       "      <th></th>\n",
       "      <th>account</th>\n",
       "      <th>duration</th>\n",
       "      <th>credit_history</th>\n",
       "      <th>amount</th>\n",
       "      <th>savings</th>\n",
       "      <th>employment</th>\n",
       "      <th>guarantors</th>\n",
       "      <th>residence</th>\n",
       "      <th>age</th>\n",
       "      <th>credits_number</th>\n",
       "      <th>job</th>\n",
       "      <th>maintenance_people</th>\n",
       "      <th>telephone</th>\n",
       "      <th>foreign</th>\n",
       "      <th>real_estate</th>\n",
       "      <th>life_insurance</th>\n",
       "      <th>car</th>\n",
       "      <th>housing_rent</th>\n",
       "      <th>sex</th>\n",
       "    </tr>\n",
       "  </thead>\n",
       "  <tbody>\n",
       "    <tr>\n",
       "      <th>0</th>\n",
       "      <td>1</td>\n",
       "      <td>0.18</td>\n",
       "      <td>2</td>\n",
       "      <td>0.13110</td>\n",
       "      <td>2</td>\n",
       "      <td>2</td>\n",
       "      <td>1</td>\n",
       "      <td>4</td>\n",
       "      <td>0.34</td>\n",
       "      <td>1</td>\n",
       "      <td>2</td>\n",
       "      <td>1</td>\n",
       "      <td>0</td>\n",
       "      <td>1</td>\n",
       "      <td>0</td>\n",
       "      <td>0</td>\n",
       "      <td>1</td>\n",
       "      <td>0</td>\n",
       "      <td>1</td>\n",
       "    </tr>\n",
       "    <tr>\n",
       "      <th>1</th>\n",
       "      <td>-1</td>\n",
       "      <td>0.18</td>\n",
       "      <td>0</td>\n",
       "      <td>0.15520</td>\n",
       "      <td>1</td>\n",
       "      <td>3</td>\n",
       "      <td>1</td>\n",
       "      <td>1</td>\n",
       "      <td>0.31</td>\n",
       "      <td>1</td>\n",
       "      <td>2</td>\n",
       "      <td>1</td>\n",
       "      <td>1</td>\n",
       "      <td>1</td>\n",
       "      <td>0</td>\n",
       "      <td>1</td>\n",
       "      <td>0</td>\n",
       "      <td>0</td>\n",
       "      <td>1</td>\n",
       "    </tr>\n",
       "    <tr>\n",
       "      <th>2</th>\n",
       "      <td>-1</td>\n",
       "      <td>0.12</td>\n",
       "      <td>2</td>\n",
       "      <td>0.04510</td>\n",
       "      <td>1</td>\n",
       "      <td>3</td>\n",
       "      <td>1</td>\n",
       "      <td>4</td>\n",
       "      <td>0.21</td>\n",
       "      <td>1</td>\n",
       "      <td>2</td>\n",
       "      <td>1</td>\n",
       "      <td>0</td>\n",
       "      <td>1</td>\n",
       "      <td>0</td>\n",
       "      <td>1</td>\n",
       "      <td>0</td>\n",
       "      <td>1</td>\n",
       "      <td>1</td>\n",
       "    </tr>\n",
       "    <tr>\n",
       "      <th>3</th>\n",
       "      <td>-1</td>\n",
       "      <td>0.30</td>\n",
       "      <td>0</td>\n",
       "      <td>0.40360</td>\n",
       "      <td>0</td>\n",
       "      <td>1</td>\n",
       "      <td>1</td>\n",
       "      <td>3</td>\n",
       "      <td>0.25</td>\n",
       "      <td>3</td>\n",
       "      <td>2</td>\n",
       "      <td>1</td>\n",
       "      <td>0</td>\n",
       "      <td>1</td>\n",
       "      <td>0</td>\n",
       "      <td>0</td>\n",
       "      <td>1</td>\n",
       "      <td>0</td>\n",
       "      <td>1</td>\n",
       "    </tr>\n",
       "    <tr>\n",
       "      <th>4</th>\n",
       "      <td>0</td>\n",
       "      <td>0.36</td>\n",
       "      <td>2</td>\n",
       "      <td>0.09095</td>\n",
       "      <td>1</td>\n",
       "      <td>2</td>\n",
       "      <td>1</td>\n",
       "      <td>4</td>\n",
       "      <td>0.37</td>\n",
       "      <td>1</td>\n",
       "      <td>2</td>\n",
       "      <td>1</td>\n",
       "      <td>1</td>\n",
       "      <td>1</td>\n",
       "      <td>0</td>\n",
       "      <td>0</td>\n",
       "      <td>0</td>\n",
       "      <td>0</td>\n",
       "      <td>1</td>\n",
       "    </tr>\n",
       "  </tbody>\n",
       "</table>\n",
       "</div>"
      ],
      "text/plain": [
       "   account  duration  credit_history   amount  savings  employment  \\\n",
       "0        1      0.18               2  0.13110        2           2   \n",
       "1       -1      0.18               0  0.15520        1           3   \n",
       "2       -1      0.12               2  0.04510        1           3   \n",
       "3       -1      0.30               0  0.40360        0           1   \n",
       "4        0      0.36               2  0.09095        1           2   \n",
       "\n",
       "   guarantors  residence   age  credits_number  job  maintenance_people  \\\n",
       "0           1          4  0.34               1    2                   1   \n",
       "1           1          1  0.31               1    2                   1   \n",
       "2           1          4  0.21               1    2                   1   \n",
       "3           1          3  0.25               3    2                   1   \n",
       "4           1          4  0.37               1    2                   1   \n",
       "\n",
       "   telephone  foreign  real_estate  life_insurance  car  housing_rent  sex  \n",
       "0          0        1            0               0    1             0    1  \n",
       "1          1        1            0               1    0             0    1  \n",
       "2          0        1            0               1    0             1    1  \n",
       "3          0        1            0               0    1             0    1  \n",
       "4          1        1            0               0    0             0    1  "
      ]
     },
     "execution_count": 9,
     "metadata": {},
     "output_type": "execute_result"
    }
   ],
   "source": [
    "X.head()"
   ]
  },
  {
   "cell_type": "code",
   "execution_count": 10,
   "metadata": {},
   "outputs": [
    {
     "data": {
      "text/plain": [
       "((600, 19), (600,))"
      ]
     },
     "execution_count": 10,
     "metadata": {},
     "output_type": "execute_result"
    }
   ],
   "source": [
    "X.shape, y.shape # атрибут shape показывает размерности матрицы"
   ]
  },
  {
   "cell_type": "markdown",
   "metadata": {},
   "source": [
    "#### Разделение выборки\n",
    "\n",
    "**Задание:** разбейте данные на train и test, 30% на test, зафиксируйте random_state"
   ]
  },
  {
   "cell_type": "code",
   "execution_count": 11,
   "metadata": {},
   "outputs": [],
   "source": [
    "from sklearn.model_selection import train_test_split\n",
    "# функция для разделения выборки на обучающую и тестовую"
   ]
  },
  {
   "cell_type": "code",
   "execution_count": 12,
   "metadata": {},
   "outputs": [],
   "source": [
    "X_train, X_test, y_train, y_test = train_test_split(X, y, test_size=0.3, random_state=0)"
   ]
  },
  {
   "cell_type": "code",
   "execution_count": 13,
   "metadata": {},
   "outputs": [
    {
     "data": {
      "text/plain": [
       "1    222\n",
       "0    198\n",
       "Name: target, dtype: int64"
      ]
     },
     "execution_count": 13,
     "metadata": {},
     "output_type": "execute_result"
    }
   ],
   "source": [
    "y_train.value_counts()"
   ]
  },
  {
   "cell_type": "code",
   "execution_count": 14,
   "metadata": {},
   "outputs": [
    {
     "data": {
      "text/plain": [
       "0    102\n",
       "1     78\n",
       "Name: target, dtype: int64"
      ]
     },
     "execution_count": 14,
     "metadata": {},
     "output_type": "execute_result"
    }
   ],
   "source": [
    "y_test.value_counts()"
   ]
  },
  {
   "cell_type": "code",
   "execution_count": 16,
   "metadata": {},
   "outputs": [
    {
     "data": {
      "text/plain": [
       "((420, 19), (420,))"
      ]
     },
     "execution_count": 16,
     "metadata": {},
     "output_type": "execute_result"
    }
   ],
   "source": [
    "X_train.shape, y_train.shape"
   ]
  },
  {
   "cell_type": "markdown",
   "metadata": {},
   "source": [
    "#### Нормируем данные\n",
    "\n",
    "**Задание:** примените StandardScaler для нормировки данных"
   ]
  },
  {
   "cell_type": "code",
   "execution_count": 17,
   "metadata": {},
   "outputs": [],
   "source": [
    "from sklearn.preprocessing import StandardScaler"
   ]
  },
  {
   "cell_type": "code",
   "execution_count": 18,
   "metadata": {},
   "outputs": [
    {
     "name": "stderr",
     "output_type": "stream",
     "text": [
      "C:\\Users\\elena\\Anaconda3\\lib\\site-packages\\sklearn\\preprocessing\\data.py:617: DataConversionWarning: Data with input dtype int64, float64 were all converted to float64 by StandardScaler.\n",
      "  return self.partial_fit(X, y)\n",
      "C:\\Users\\elena\\Anaconda3\\lib\\site-packages\\ipykernel_launcher.py:4: DataConversionWarning: Data with input dtype int64, float64 were all converted to float64 by StandardScaler.\n",
      "  after removing the cwd from sys.path.\n",
      "C:\\Users\\elena\\Anaconda3\\lib\\site-packages\\ipykernel_launcher.py:5: DataConversionWarning: Data with input dtype int64, float64 were all converted to float64 by StandardScaler.\n",
      "  \"\"\"\n"
     ]
    }
   ],
   "source": [
    "scaler = StandardScaler()\n",
    "scaler.fit(X_train)\n",
    "\n",
    "X_train = scaler.transform(X_train)\n",
    "X_test = scaler.transform(X_test)"
   ]
  },
  {
   "cell_type": "code",
   "execution_count": 19,
   "metadata": {},
   "outputs": [
    {
     "data": {
      "text/plain": [
       "array([[-1.16594235,  3.04794818, -0.37897436, ..., -0.70332206,\n",
       "         2.01500396,  0.68449359],\n",
       "       [-0.06796973, -0.28574514,  1.45055702, ...,  1.42182374,\n",
       "        -0.49627694,  0.68449359],\n",
       "       [-1.16594235, -0.12699784, -0.37897436, ...,  1.42182374,\n",
       "        -0.49627694,  0.68449359],\n",
       "       ...,\n",
       "       [-0.06796973, -1.000108  , -0.37897436, ...,  1.42182374,\n",
       "        -0.49627694,  0.68449359],\n",
       "       [ 1.03000288, -0.28574514, -0.37897436, ..., -0.70332206,\n",
       "         2.01500396, -1.46093407],\n",
       "       [ 1.03000288, -0.52386609,  1.45055702, ..., -0.70332206,\n",
       "        -0.49627694,  0.68449359]])"
      ]
     },
     "execution_count": 19,
     "metadata": {},
     "output_type": "execute_result"
    }
   ],
   "source": [
    "X_test"
   ]
  },
  {
   "cell_type": "markdown",
   "metadata": {},
   "source": [
    "#### Импортируем класс модели\n",
    "\n",
    "**Задание:** обучите линейную регрессию на train и сделайте предсказание на test"
   ]
  },
  {
   "cell_type": "code",
   "execution_count": 20,
   "metadata": {},
   "outputs": [],
   "source": [
    "from sklearn.linear_model import LinearRegression"
   ]
  },
  {
   "cell_type": "code",
   "execution_count": 21,
   "metadata": {},
   "outputs": [],
   "source": [
    "from sklearn.metrics import accuracy_score # функция оценки качества"
   ]
  },
  {
   "cell_type": "code",
   "execution_count": 22,
   "metadata": {},
   "outputs": [
    {
     "data": {
      "text/plain": [
       "LinearRegression(copy_X=True, fit_intercept=True, n_jobs=None,\n",
       "         normalize=False)"
      ]
     },
     "execution_count": 22,
     "metadata": {},
     "output_type": "execute_result"
    }
   ],
   "source": [
    "clf_lr = LinearRegression()\n",
    "\n",
    "clf_lr.fit(X_train, y_train)"
   ]
  },
  {
   "cell_type": "code",
   "execution_count": 24,
   "metadata": {},
   "outputs": [
    {
     "data": {
      "text/plain": [
       "array([ 0.20239523,  0.93202397,  0.63928477,  0.4280968 ,  0.23546712,\n",
       "        0.50280259,  0.6812352 ,  0.31915892,  0.69772332,  0.69749409,\n",
       "        0.90581779,  0.36766266,  0.53508448,  0.19520073,  0.33208213,\n",
       "        0.49769825,  0.61258381,  0.63868376,  0.74173359,  0.46710464,\n",
       "        0.61614314,  0.57101904,  0.48132787,  0.50592824,  0.26875261,\n",
       "        0.52583493,  0.60926973,  0.57703641,  0.5110611 ,  0.23954412,\n",
       "        0.70803535,  0.58811523,  0.23798662,  0.63267848,  0.43140647,\n",
       "        0.64040732,  0.33795007,  0.62272962,  0.47936858,  0.33442675,\n",
       "        0.51569969,  0.74434892,  0.63244922,  0.42614249,  0.46458611,\n",
       "        0.4031056 ,  0.12272322,  0.52491486,  0.73014397,  0.04458303,\n",
       "        0.61320574,  0.53735582,  0.66298174,  0.6207524 ,  0.4954895 ,\n",
       "        0.73235211,  0.77829743,  0.7529239 ,  0.3531703 ,  0.38186039,\n",
       "        0.70825041,  0.41622644,  0.80218376,  0.49556651,  0.32837647,\n",
       "        0.32135647,  0.42705605,  0.52294331,  0.29882762,  0.25176869,\n",
       "        0.42045538,  0.82837832,  0.71590127,  0.51981822,  0.32805082,\n",
       "        0.08150777,  0.45302131,  0.62083631,  0.52599144,  0.35222641,\n",
       "        0.67138438,  0.19161858,  0.62340727,  0.63398962,  0.17066117,\n",
       "        0.51581146,  0.6726983 ,  0.38287233,  0.19428868,  0.91311167,\n",
       "        0.69194642,  0.43898241,  0.7015846 ,  0.56804265,  0.53275643,\n",
       "        0.56191488,  0.54039007,  0.65219219,  0.63613076,  0.65705222,\n",
       "        0.83092578,  0.71474242, -0.01024405,  0.50966694,  0.73080325,\n",
       "        0.67353874,  0.55831728,  0.69551377,  0.13129008,  0.6645486 ,\n",
       "        0.42366124,  1.03241304,  0.58482972,  0.23879277,  0.71555021,\n",
       "        0.62966551,  0.60062737,  0.32578307,  0.8515198 ,  0.47691152,\n",
       "        0.59934404,  0.78861865,  0.531836  ,  0.65382408,  0.04866602,\n",
       "        0.51591903,  0.44814171,  0.60940765,  0.5270754 ,  0.34798284,\n",
       "        0.32473985,  0.71388354,  0.68158866,  0.50074709,  0.31823404,\n",
       "        0.13361499,  0.61375423,  0.96645716,  0.54514758,  0.60027604,\n",
       "        0.88425275,  0.91592156,  0.64629784,  0.93978916,  0.56617119,\n",
       "        0.43383328,  0.87214737,  0.48654886,  0.70444362,  0.81520196,\n",
       "        0.31160219,  0.46261856,  0.96170617,  0.00198123,  0.87918605,\n",
       "        0.60857601,  0.60211062,  0.68988769,  0.88450269,  0.43493032,\n",
       "        0.21737341,  0.25858497,  0.43860474,  0.99035132,  0.68637781,\n",
       "        0.37067012,  0.66071694,  0.53931723,  0.546715  ,  0.38168928,\n",
       "        0.47517587,  0.1001366 ,  0.77462934,  0.45098345,  0.69162145,\n",
       "        0.45884744,  0.57323276,  0.7165862 ,  0.51354783,  0.75854626])"
      ]
     },
     "execution_count": 24,
     "metadata": {},
     "output_type": "execute_result"
    }
   ],
   "source": [
    "y_pred = clf_lr.predict(X_test)\n",
    "y_pred"
   ]
  },
  {
   "cell_type": "markdown",
   "metadata": {},
   "source": [
    "Переведем предсказания в классы"
   ]
  },
  {
   "cell_type": "code",
   "execution_count": 25,
   "metadata": {},
   "outputs": [
    {
     "data": {
      "text/plain": [
       "array([False,  True,  True, False, False,  True,  True, False,  True,\n",
       "        True,  True, False,  True, False, False, False,  True,  True,\n",
       "        True, False,  True,  True, False,  True, False,  True,  True,\n",
       "        True,  True, False,  True,  True, False,  True, False,  True,\n",
       "       False,  True, False, False,  True,  True,  True, False, False,\n",
       "       False, False,  True,  True, False,  True,  True,  True,  True,\n",
       "       False,  True,  True,  True, False, False,  True, False,  True,\n",
       "       False, False, False, False,  True, False, False, False,  True,\n",
       "        True,  True, False, False, False,  True,  True, False,  True,\n",
       "       False,  True,  True, False,  True,  True, False, False,  True,\n",
       "        True, False,  True,  True,  True,  True,  True,  True,  True,\n",
       "        True,  True,  True, False,  True,  True,  True,  True,  True,\n",
       "       False,  True, False,  True,  True, False,  True,  True,  True,\n",
       "       False,  True, False,  True,  True,  True,  True, False,  True,\n",
       "       False,  True,  True, False, False,  True,  True,  True, False,\n",
       "       False,  True,  True,  True,  True,  True,  True,  True,  True,\n",
       "        True, False,  True, False,  True,  True, False, False,  True,\n",
       "       False,  True,  True,  True,  True,  True, False, False, False,\n",
       "       False,  True,  True, False,  True,  True,  True, False, False,\n",
       "       False,  True, False,  True, False,  True,  True,  True,  True])"
      ]
     },
     "execution_count": 25,
     "metadata": {},
     "output_type": "execute_result"
    }
   ],
   "source": [
    "y_pred > 0.5"
   ]
  },
  {
   "cell_type": "code",
   "execution_count": 26,
   "metadata": {},
   "outputs": [
    {
     "data": {
      "text/plain": [
       "0.6388888888888888"
      ]
     },
     "execution_count": 26,
     "metadata": {},
     "output_type": "execute_result"
    }
   ],
   "source": [
    "accuracy_score(y_test, y_pred > 0.5)"
   ]
  },
  {
   "cell_type": "markdown",
   "metadata": {},
   "source": [
    "#### Важности и веса признаков\n",
    "Большинство алгоритмов умеют так или иначе оценивать важности признаков. \n",
    "В линейной модели в качестве важностей можно рассматривать веса признаков. Они хранятся в атрибуте coef\\_ и появляются, конечно, только после вызова процедуры обучения."
   ]
  },
  {
   "cell_type": "code",
   "execution_count": 27,
   "metadata": {},
   "outputs": [
    {
     "data": {
      "text/plain": [
       "array([ 0.03344627, -0.0779239 ,  0.08754819, -0.02066605,  0.03067396,\n",
       "        0.06774134, -0.00975411,  0.00109616,  0.0185817 , -0.04661195,\n",
       "        0.00099741, -0.00569433,  0.01735849, -0.03505761,  0.06359324,\n",
       "       -0.0134745 ,  0.06344944, -0.0416773 ,  0.05088774])"
      ]
     },
     "execution_count": 27,
     "metadata": {},
     "output_type": "execute_result"
    }
   ],
   "source": [
    "clf_lr.coef_"
   ]
  },
  {
   "cell_type": "markdown",
   "metadata": {},
   "source": [
    "__Задание.__ Оформить веса признаков в виде датафрейма: первый столбец - имя признака, второй столбец - вес, и отсортировать датафрейм по увеличению веса.\n",
    "\n",
    "__Решение:__"
   ]
  },
  {
   "cell_type": "code",
   "execution_count": 29,
   "metadata": {},
   "outputs": [
    {
     "data": {
      "text/html": [
       "<div>\n",
       "<style scoped>\n",
       "    .dataframe tbody tr th:only-of-type {\n",
       "        vertical-align: middle;\n",
       "    }\n",
       "\n",
       "    .dataframe tbody tr th {\n",
       "        vertical-align: top;\n",
       "    }\n",
       "\n",
       "    .dataframe thead th {\n",
       "        text-align: right;\n",
       "    }\n",
       "</style>\n",
       "<table border=\"1\" class=\"dataframe\">\n",
       "  <thead>\n",
       "    <tr style=\"text-align: right;\">\n",
       "      <th></th>\n",
       "      <th>feature</th>\n",
       "      <th>weight</th>\n",
       "    </tr>\n",
       "  </thead>\n",
       "  <tbody>\n",
       "    <tr>\n",
       "      <th>1</th>\n",
       "      <td>duration</td>\n",
       "      <td>-0.077924</td>\n",
       "    </tr>\n",
       "    <tr>\n",
       "      <th>9</th>\n",
       "      <td>credits_number</td>\n",
       "      <td>-0.046612</td>\n",
       "    </tr>\n",
       "    <tr>\n",
       "      <th>17</th>\n",
       "      <td>housing_rent</td>\n",
       "      <td>-0.041677</td>\n",
       "    </tr>\n",
       "    <tr>\n",
       "      <th>13</th>\n",
       "      <td>foreign</td>\n",
       "      <td>-0.035058</td>\n",
       "    </tr>\n",
       "    <tr>\n",
       "      <th>3</th>\n",
       "      <td>amount</td>\n",
       "      <td>-0.020666</td>\n",
       "    </tr>\n",
       "    <tr>\n",
       "      <th>15</th>\n",
       "      <td>life_insurance</td>\n",
       "      <td>-0.013474</td>\n",
       "    </tr>\n",
       "    <tr>\n",
       "      <th>6</th>\n",
       "      <td>guarantors</td>\n",
       "      <td>-0.009754</td>\n",
       "    </tr>\n",
       "    <tr>\n",
       "      <th>11</th>\n",
       "      <td>maintenance_people</td>\n",
       "      <td>-0.005694</td>\n",
       "    </tr>\n",
       "    <tr>\n",
       "      <th>10</th>\n",
       "      <td>job</td>\n",
       "      <td>0.000997</td>\n",
       "    </tr>\n",
       "    <tr>\n",
       "      <th>7</th>\n",
       "      <td>residence</td>\n",
       "      <td>0.001096</td>\n",
       "    </tr>\n",
       "    <tr>\n",
       "      <th>12</th>\n",
       "      <td>telephone</td>\n",
       "      <td>0.017358</td>\n",
       "    </tr>\n",
       "    <tr>\n",
       "      <th>8</th>\n",
       "      <td>age</td>\n",
       "      <td>0.018582</td>\n",
       "    </tr>\n",
       "    <tr>\n",
       "      <th>4</th>\n",
       "      <td>savings</td>\n",
       "      <td>0.030674</td>\n",
       "    </tr>\n",
       "    <tr>\n",
       "      <th>0</th>\n",
       "      <td>account</td>\n",
       "      <td>0.033446</td>\n",
       "    </tr>\n",
       "    <tr>\n",
       "      <th>18</th>\n",
       "      <td>sex</td>\n",
       "      <td>0.050888</td>\n",
       "    </tr>\n",
       "    <tr>\n",
       "      <th>16</th>\n",
       "      <td>car</td>\n",
       "      <td>0.063449</td>\n",
       "    </tr>\n",
       "    <tr>\n",
       "      <th>14</th>\n",
       "      <td>real_estate</td>\n",
       "      <td>0.063593</td>\n",
       "    </tr>\n",
       "    <tr>\n",
       "      <th>5</th>\n",
       "      <td>employment</td>\n",
       "      <td>0.067741</td>\n",
       "    </tr>\n",
       "    <tr>\n",
       "      <th>2</th>\n",
       "      <td>credit_history</td>\n",
       "      <td>0.087548</td>\n",
       "    </tr>\n",
       "  </tbody>\n",
       "</table>\n",
       "</div>"
      ],
      "text/plain": [
       "               feature    weight\n",
       "1             duration -0.077924\n",
       "9       credits_number -0.046612\n",
       "17        housing_rent -0.041677\n",
       "13             foreign -0.035058\n",
       "3               amount -0.020666\n",
       "15      life_insurance -0.013474\n",
       "6           guarantors -0.009754\n",
       "11  maintenance_people -0.005694\n",
       "10                 job  0.000997\n",
       "7            residence  0.001096\n",
       "12           telephone  0.017358\n",
       "8                  age  0.018582\n",
       "4              savings  0.030674\n",
       "0              account  0.033446\n",
       "18                 sex  0.050888\n",
       "16                 car  0.063449\n",
       "14         real_estate  0.063593\n",
       "5           employment  0.067741\n",
       "2       credit_history  0.087548"
      ]
     },
     "execution_count": 29,
     "metadata": {},
     "output_type": "execute_result"
    }
   ],
   "source": [
    "weights = pd.DataFrame({\"feature\" : tab.columns[:-2], \"weight\" : clf_lr.coef_}).sort_values(\"weight\")\n",
    "weights"
   ]
  },
  {
   "cell_type": "markdown",
   "metadata": {},
   "source": [
    "Признаки отсортировались по логичным критериям: плата за съем жилья, число кредитов, заемщик-иностранец уменьшают шанс получить кредит; наличие собственности, машины, работы, счета в банке - увеличивают шансы.\n",
    "\n",
    "Впрочем, некоторые признаки отсортировались менее логично: например, наличие поручителя тоже голосует в \"минус\", хотя и с маленьким весом.\n",
    "\n",
    "__Обратите внимание:__ интерпретировать величину весов можно, только если данные отнормированы. Иначе модуль веса будет зависеть от масштаба признака."
   ]
  },
  {
   "cell_type": "markdown",
   "metadata": {},
   "source": [
    "#### Работа с категориальным признаком"
   ]
  },
  {
   "cell_type": "markdown",
   "metadata": {},
   "source": [
    "**Задание.** Примените метод one-hot-encoding к переменной \"цель получения кредита\", чтобы включить ее в модель. Для этого воспользуйтесь функцией pd.get_dummies"
   ]
  },
  {
   "cell_type": "code",
   "execution_count": 30,
   "metadata": {},
   "outputs": [],
   "source": [
    "tab_ohe = pd.get_dummies(tab, \"purpose\", drop_first=True)"
   ]
  },
  {
   "cell_type": "code",
   "execution_count": 31,
   "metadata": {},
   "outputs": [
    {
     "data": {
      "text/html": [
       "<div>\n",
       "<style scoped>\n",
       "    .dataframe tbody tr th:only-of-type {\n",
       "        vertical-align: middle;\n",
       "    }\n",
       "\n",
       "    .dataframe tbody tr th {\n",
       "        vertical-align: top;\n",
       "    }\n",
       "\n",
       "    .dataframe thead th {\n",
       "        text-align: right;\n",
       "    }\n",
       "</style>\n",
       "<table border=\"1\" class=\"dataframe\">\n",
       "  <thead>\n",
       "    <tr style=\"text-align: right;\">\n",
       "      <th></th>\n",
       "      <th>account</th>\n",
       "      <th>duration</th>\n",
       "      <th>credit_history</th>\n",
       "      <th>amount</th>\n",
       "      <th>savings</th>\n",
       "      <th>employment</th>\n",
       "      <th>guarantors</th>\n",
       "      <th>residence</th>\n",
       "      <th>age</th>\n",
       "      <th>credits_number</th>\n",
       "      <th>...</th>\n",
       "      <th>target</th>\n",
       "      <th>purpose_car_new</th>\n",
       "      <th>purpose_car_used</th>\n",
       "      <th>purpose_domestic_appliances</th>\n",
       "      <th>purpose_education</th>\n",
       "      <th>purpose_furniture</th>\n",
       "      <th>purpose_others</th>\n",
       "      <th>purpose_repairs</th>\n",
       "      <th>purpose_retraining</th>\n",
       "      <th>purpose_television</th>\n",
       "    </tr>\n",
       "  </thead>\n",
       "  <tbody>\n",
       "    <tr>\n",
       "      <th>0</th>\n",
       "      <td>1</td>\n",
       "      <td>0.18</td>\n",
       "      <td>2</td>\n",
       "      <td>0.13110</td>\n",
       "      <td>2</td>\n",
       "      <td>2</td>\n",
       "      <td>1</td>\n",
       "      <td>4</td>\n",
       "      <td>0.34</td>\n",
       "      <td>1</td>\n",
       "      <td>...</td>\n",
       "      <td>1</td>\n",
       "      <td>0</td>\n",
       "      <td>0</td>\n",
       "      <td>0</td>\n",
       "      <td>0</td>\n",
       "      <td>0</td>\n",
       "      <td>0</td>\n",
       "      <td>0</td>\n",
       "      <td>0</td>\n",
       "      <td>0</td>\n",
       "    </tr>\n",
       "    <tr>\n",
       "      <th>1</th>\n",
       "      <td>-1</td>\n",
       "      <td>0.18</td>\n",
       "      <td>0</td>\n",
       "      <td>0.15520</td>\n",
       "      <td>1</td>\n",
       "      <td>3</td>\n",
       "      <td>1</td>\n",
       "      <td>1</td>\n",
       "      <td>0.31</td>\n",
       "      <td>1</td>\n",
       "      <td>...</td>\n",
       "      <td>1</td>\n",
       "      <td>0</td>\n",
       "      <td>0</td>\n",
       "      <td>0</td>\n",
       "      <td>0</td>\n",
       "      <td>0</td>\n",
       "      <td>0</td>\n",
       "      <td>0</td>\n",
       "      <td>0</td>\n",
       "      <td>0</td>\n",
       "    </tr>\n",
       "    <tr>\n",
       "      <th>2</th>\n",
       "      <td>-1</td>\n",
       "      <td>0.12</td>\n",
       "      <td>2</td>\n",
       "      <td>0.04510</td>\n",
       "      <td>1</td>\n",
       "      <td>3</td>\n",
       "      <td>1</td>\n",
       "      <td>4</td>\n",
       "      <td>0.21</td>\n",
       "      <td>1</td>\n",
       "      <td>...</td>\n",
       "      <td>0</td>\n",
       "      <td>0</td>\n",
       "      <td>0</td>\n",
       "      <td>0</td>\n",
       "      <td>0</td>\n",
       "      <td>0</td>\n",
       "      <td>0</td>\n",
       "      <td>0</td>\n",
       "      <td>1</td>\n",
       "      <td>0</td>\n",
       "    </tr>\n",
       "    <tr>\n",
       "      <th>3</th>\n",
       "      <td>-1</td>\n",
       "      <td>0.30</td>\n",
       "      <td>0</td>\n",
       "      <td>0.40360</td>\n",
       "      <td>0</td>\n",
       "      <td>1</td>\n",
       "      <td>1</td>\n",
       "      <td>3</td>\n",
       "      <td>0.25</td>\n",
       "      <td>3</td>\n",
       "      <td>...</td>\n",
       "      <td>1</td>\n",
       "      <td>0</td>\n",
       "      <td>0</td>\n",
       "      <td>0</td>\n",
       "      <td>0</td>\n",
       "      <td>0</td>\n",
       "      <td>0</td>\n",
       "      <td>0</td>\n",
       "      <td>0</td>\n",
       "      <td>0</td>\n",
       "    </tr>\n",
       "    <tr>\n",
       "      <th>4</th>\n",
       "      <td>0</td>\n",
       "      <td>0.36</td>\n",
       "      <td>2</td>\n",
       "      <td>0.09095</td>\n",
       "      <td>1</td>\n",
       "      <td>2</td>\n",
       "      <td>1</td>\n",
       "      <td>4</td>\n",
       "      <td>0.37</td>\n",
       "      <td>1</td>\n",
       "      <td>...</td>\n",
       "      <td>0</td>\n",
       "      <td>0</td>\n",
       "      <td>0</td>\n",
       "      <td>0</td>\n",
       "      <td>1</td>\n",
       "      <td>0</td>\n",
       "      <td>0</td>\n",
       "      <td>0</td>\n",
       "      <td>0</td>\n",
       "      <td>0</td>\n",
       "    </tr>\n",
       "  </tbody>\n",
       "</table>\n",
       "<p>5 rows × 29 columns</p>\n",
       "</div>"
      ],
      "text/plain": [
       "   account  duration  credit_history   amount  savings  employment  \\\n",
       "0        1      0.18               2  0.13110        2           2   \n",
       "1       -1      0.18               0  0.15520        1           3   \n",
       "2       -1      0.12               2  0.04510        1           3   \n",
       "3       -1      0.30               0  0.40360        0           1   \n",
       "4        0      0.36               2  0.09095        1           2   \n",
       "\n",
       "   guarantors  residence   age  credits_number  ...  target  purpose_car_new  \\\n",
       "0           1          4  0.34               1  ...       1                0   \n",
       "1           1          1  0.31               1  ...       1                0   \n",
       "2           1          4  0.21               1  ...       0                0   \n",
       "3           1          3  0.25               3  ...       1                0   \n",
       "4           1          4  0.37               1  ...       0                0   \n",
       "\n",
       "   purpose_car_used  purpose_domestic_appliances  purpose_education  \\\n",
       "0                 0                            0                  0   \n",
       "1                 0                            0                  0   \n",
       "2                 0                            0                  0   \n",
       "3                 0                            0                  0   \n",
       "4                 0                            0                  1   \n",
       "\n",
       "   purpose_furniture  purpose_others  purpose_repairs  purpose_retraining  \\\n",
       "0                  0               0                0                   0   \n",
       "1                  0               0                0                   0   \n",
       "2                  0               0                0                   1   \n",
       "3                  0               0                0                   0   \n",
       "4                  0               0                0                   0   \n",
       "\n",
       "   purpose_television  \n",
       "0                   0  \n",
       "1                   0  \n",
       "2                   0  \n",
       "3                   0  \n",
       "4                   0  \n",
       "\n",
       "[5 rows x 29 columns]"
      ]
     },
     "execution_count": 31,
     "metadata": {},
     "output_type": "execute_result"
    }
   ],
   "source": [
    "tab_ohe.head()"
   ]
  },
  {
   "cell_type": "code",
   "execution_count": 32,
   "metadata": {},
   "outputs": [],
   "source": [
    "# удаляем целевую переменную с помощью метода drop\n",
    "X_ohe = tab_ohe.drop(\"target\", axis=1)\n",
    "# axis=1 показывает, что мы отим удалить столбец, а не строку (axis=0)"
   ]
  },
  {
   "cell_type": "code",
   "execution_count": 33,
   "metadata": {},
   "outputs": [],
   "source": [
    "X_train_ohe, X_test_ohe, y_train, y_test  = train_test_split(X_ohe, y, \\\n",
    "                                                     test_size=0.3,\\\n",
    "                                                     random_state=0)"
   ]
  },
  {
   "cell_type": "code",
   "execution_count": 34,
   "metadata": {},
   "outputs": [
    {
     "name": "stderr",
     "output_type": "stream",
     "text": [
      "C:\\Users\\elena\\Anaconda3\\lib\\site-packages\\sklearn\\preprocessing\\data.py:617: DataConversionWarning: Data with input dtype uint8, int64, float64 were all converted to float64 by StandardScaler.\n",
      "  return self.partial_fit(X, y)\n",
      "C:\\Users\\elena\\Anaconda3\\lib\\site-packages\\sklearn\\base.py:462: DataConversionWarning: Data with input dtype uint8, int64, float64 were all converted to float64 by StandardScaler.\n",
      "  return self.fit(X, **fit_params).transform(X)\n",
      "C:\\Users\\elena\\Anaconda3\\lib\\site-packages\\ipykernel_launcher.py:3: DataConversionWarning: Data with input dtype uint8, int64, float64 were all converted to float64 by StandardScaler.\n",
      "  This is separate from the ipykernel package so we can avoid doing imports until\n"
     ]
    }
   ],
   "source": [
    "scaler = StandardScaler()\n",
    "X_train_ohe = scaler.fit_transform(X_train_ohe)\n",
    "X_test_ohe = scaler.transform(X_test_ohe)"
   ]
  },
  {
   "cell_type": "markdown",
   "metadata": {},
   "source": [
    "Благодаря фиксации random_state=0 мы получаем одно и то же разделение."
   ]
  },
  {
   "cell_type": "markdown",
   "metadata": {},
   "source": [
    "Оформим обучение классификатора и подсчет качества в виде функции:"
   ]
  },
  {
   "cell_type": "code",
   "execution_count": 35,
   "metadata": {},
   "outputs": [],
   "source": [
    "def get_accuracy(clf):\n",
    "    clf.fit(X_train_ohe, y_train)\n",
    "    y_pred = clf.predict(X_test_ohe)\n",
    "    return accuracy_score(y_test, y_pred > 0.5)"
   ]
  },
  {
   "cell_type": "code",
   "execution_count": 36,
   "metadata": {},
   "outputs": [
    {
     "name": "stdout",
     "output_type": "stream",
     "text": [
      "0.6666666666666666\n"
     ]
    }
   ],
   "source": [
    "print(get_accuracy(LinearRegression()))"
   ]
  },
  {
   "cell_type": "markdown",
   "metadata": {},
   "source": [
    "Качество с новым признаком повысилось."
   ]
  },
  {
   "cell_type": "markdown",
   "metadata": {},
   "source": [
    "А что, если мы просто пронумеруем категории? Для этого воспользуемся классом LabelEncoder:"
   ]
  },
  {
   "cell_type": "code",
   "execution_count": 37,
   "metadata": {},
   "outputs": [],
   "source": [
    "from sklearn.preprocessing import LabelEncoder"
   ]
  },
  {
   "cell_type": "code",
   "execution_count": 38,
   "metadata": {},
   "outputs": [],
   "source": [
    "le = LabelEncoder()\n",
    "tab[\"purpose\"] = le.fit_transform(tab[\"purpose\"])"
   ]
  },
  {
   "cell_type": "code",
   "execution_count": null,
   "metadata": {},
   "outputs": [],
   "source": [
    "# \"0-10\", \"11-20\", \"21-30\", \"31-40\"...\n",
    "#    0       1        2        3"
   ]
  },
  {
   "cell_type": "code",
   "execution_count": 39,
   "metadata": {},
   "outputs": [
    {
     "data": {
      "text/html": [
       "<div>\n",
       "<style scoped>\n",
       "    .dataframe tbody tr th:only-of-type {\n",
       "        vertical-align: middle;\n",
       "    }\n",
       "\n",
       "    .dataframe tbody tr th {\n",
       "        vertical-align: top;\n",
       "    }\n",
       "\n",
       "    .dataframe thead th {\n",
       "        text-align: right;\n",
       "    }\n",
       "</style>\n",
       "<table border=\"1\" class=\"dataframe\">\n",
       "  <thead>\n",
       "    <tr style=\"text-align: right;\">\n",
       "      <th></th>\n",
       "      <th>account</th>\n",
       "      <th>duration</th>\n",
       "      <th>credit_history</th>\n",
       "      <th>amount</th>\n",
       "      <th>savings</th>\n",
       "      <th>employment</th>\n",
       "      <th>guarantors</th>\n",
       "      <th>residence</th>\n",
       "      <th>age</th>\n",
       "      <th>credits_number</th>\n",
       "      <th>job</th>\n",
       "      <th>maintenance_people</th>\n",
       "      <th>telephone</th>\n",
       "      <th>foreign</th>\n",
       "      <th>real_estate</th>\n",
       "      <th>life_insurance</th>\n",
       "      <th>car</th>\n",
       "      <th>housing_rent</th>\n",
       "      <th>sex</th>\n",
       "      <th>purpose</th>\n",
       "    </tr>\n",
       "  </thead>\n",
       "  <tbody>\n",
       "    <tr>\n",
       "      <th>0</th>\n",
       "      <td>1</td>\n",
       "      <td>0.18</td>\n",
       "      <td>2</td>\n",
       "      <td>0.13110</td>\n",
       "      <td>2</td>\n",
       "      <td>2</td>\n",
       "      <td>1</td>\n",
       "      <td>4</td>\n",
       "      <td>0.34</td>\n",
       "      <td>1</td>\n",
       "      <td>2</td>\n",
       "      <td>1</td>\n",
       "      <td>0</td>\n",
       "      <td>1</td>\n",
       "      <td>0</td>\n",
       "      <td>0</td>\n",
       "      <td>1</td>\n",
       "      <td>0</td>\n",
       "      <td>1</td>\n",
       "      <td>0</td>\n",
       "    </tr>\n",
       "    <tr>\n",
       "      <th>1</th>\n",
       "      <td>-1</td>\n",
       "      <td>0.18</td>\n",
       "      <td>0</td>\n",
       "      <td>0.15520</td>\n",
       "      <td>1</td>\n",
       "      <td>3</td>\n",
       "      <td>1</td>\n",
       "      <td>1</td>\n",
       "      <td>0.31</td>\n",
       "      <td>1</td>\n",
       "      <td>2</td>\n",
       "      <td>1</td>\n",
       "      <td>1</td>\n",
       "      <td>1</td>\n",
       "      <td>0</td>\n",
       "      <td>1</td>\n",
       "      <td>0</td>\n",
       "      <td>0</td>\n",
       "      <td>1</td>\n",
       "      <td>0</td>\n",
       "    </tr>\n",
       "    <tr>\n",
       "      <th>2</th>\n",
       "      <td>-1</td>\n",
       "      <td>0.12</td>\n",
       "      <td>2</td>\n",
       "      <td>0.04510</td>\n",
       "      <td>1</td>\n",
       "      <td>3</td>\n",
       "      <td>1</td>\n",
       "      <td>4</td>\n",
       "      <td>0.21</td>\n",
       "      <td>1</td>\n",
       "      <td>2</td>\n",
       "      <td>1</td>\n",
       "      <td>0</td>\n",
       "      <td>1</td>\n",
       "      <td>0</td>\n",
       "      <td>1</td>\n",
       "      <td>0</td>\n",
       "      <td>1</td>\n",
       "      <td>1</td>\n",
       "      <td>8</td>\n",
       "    </tr>\n",
       "    <tr>\n",
       "      <th>3</th>\n",
       "      <td>-1</td>\n",
       "      <td>0.30</td>\n",
       "      <td>0</td>\n",
       "      <td>0.40360</td>\n",
       "      <td>0</td>\n",
       "      <td>1</td>\n",
       "      <td>1</td>\n",
       "      <td>3</td>\n",
       "      <td>0.25</td>\n",
       "      <td>3</td>\n",
       "      <td>2</td>\n",
       "      <td>1</td>\n",
       "      <td>0</td>\n",
       "      <td>1</td>\n",
       "      <td>0</td>\n",
       "      <td>0</td>\n",
       "      <td>1</td>\n",
       "      <td>0</td>\n",
       "      <td>1</td>\n",
       "      <td>0</td>\n",
       "    </tr>\n",
       "    <tr>\n",
       "      <th>4</th>\n",
       "      <td>0</td>\n",
       "      <td>0.36</td>\n",
       "      <td>2</td>\n",
       "      <td>0.09095</td>\n",
       "      <td>1</td>\n",
       "      <td>2</td>\n",
       "      <td>1</td>\n",
       "      <td>4</td>\n",
       "      <td>0.37</td>\n",
       "      <td>1</td>\n",
       "      <td>2</td>\n",
       "      <td>1</td>\n",
       "      <td>1</td>\n",
       "      <td>1</td>\n",
       "      <td>0</td>\n",
       "      <td>0</td>\n",
       "      <td>0</td>\n",
       "      <td>0</td>\n",
       "      <td>1</td>\n",
       "      <td>4</td>\n",
       "    </tr>\n",
       "  </tbody>\n",
       "</table>\n",
       "</div>"
      ],
      "text/plain": [
       "   account  duration  credit_history   amount  savings  employment  \\\n",
       "0        1      0.18               2  0.13110        2           2   \n",
       "1       -1      0.18               0  0.15520        1           3   \n",
       "2       -1      0.12               2  0.04510        1           3   \n",
       "3       -1      0.30               0  0.40360        0           1   \n",
       "4        0      0.36               2  0.09095        1           2   \n",
       "\n",
       "   guarantors  residence   age  credits_number  job  maintenance_people  \\\n",
       "0           1          4  0.34               1    2                   1   \n",
       "1           1          1  0.31               1    2                   1   \n",
       "2           1          4  0.21               1    2                   1   \n",
       "3           1          3  0.25               3    2                   1   \n",
       "4           1          4  0.37               1    2                   1   \n",
       "\n",
       "   telephone  foreign  real_estate  life_insurance  car  housing_rent  sex  \\\n",
       "0          0        1            0               0    1             0    1   \n",
       "1          1        1            0               1    0             0    1   \n",
       "2          0        1            0               1    0             1    1   \n",
       "3          0        1            0               0    1             0    1   \n",
       "4          1        1            0               0    0             0    1   \n",
       "\n",
       "   purpose  \n",
       "0        0  \n",
       "1        0  \n",
       "2        8  \n",
       "3        0  \n",
       "4        4  "
      ]
     },
     "execution_count": 39,
     "metadata": {},
     "output_type": "execute_result"
    }
   ],
   "source": [
    "X_le = tab[tab.columns[:-1]]\n",
    "X_le.head()"
   ]
  },
  {
   "cell_type": "code",
   "execution_count": 40,
   "metadata": {},
   "outputs": [],
   "source": [
    "X_train_le, X_test_le, y_train, y_test  = train_test_split(X_le, y, \\\n",
    "                                                     test_size=0.3,\\\n",
    "                                                     shuffle=True,\n",
    "                                                     random_state=0)"
   ]
  },
  {
   "cell_type": "code",
   "execution_count": 41,
   "metadata": {},
   "outputs": [
    {
     "data": {
      "text/html": [
       "<div>\n",
       "<style scoped>\n",
       "    .dataframe tbody tr th:only-of-type {\n",
       "        vertical-align: middle;\n",
       "    }\n",
       "\n",
       "    .dataframe tbody tr th {\n",
       "        vertical-align: top;\n",
       "    }\n",
       "\n",
       "    .dataframe thead th {\n",
       "        text-align: right;\n",
       "    }\n",
       "</style>\n",
       "<table border=\"1\" class=\"dataframe\">\n",
       "  <thead>\n",
       "    <tr style=\"text-align: right;\">\n",
       "      <th></th>\n",
       "      <th>account</th>\n",
       "      <th>duration</th>\n",
       "      <th>credit_history</th>\n",
       "      <th>amount</th>\n",
       "      <th>savings</th>\n",
       "      <th>employment</th>\n",
       "      <th>guarantors</th>\n",
       "      <th>residence</th>\n",
       "      <th>age</th>\n",
       "      <th>credits_number</th>\n",
       "      <th>job</th>\n",
       "      <th>maintenance_people</th>\n",
       "      <th>telephone</th>\n",
       "      <th>foreign</th>\n",
       "      <th>real_estate</th>\n",
       "      <th>life_insurance</th>\n",
       "      <th>car</th>\n",
       "      <th>housing_rent</th>\n",
       "      <th>sex</th>\n",
       "      <th>purpose</th>\n",
       "    </tr>\n",
       "  </thead>\n",
       "  <tbody>\n",
       "    <tr>\n",
       "      <th>0</th>\n",
       "      <td>1</td>\n",
       "      <td>0.18</td>\n",
       "      <td>2</td>\n",
       "      <td>0.13110</td>\n",
       "      <td>2</td>\n",
       "      <td>2</td>\n",
       "      <td>1</td>\n",
       "      <td>4</td>\n",
       "      <td>0.34</td>\n",
       "      <td>1</td>\n",
       "      <td>2</td>\n",
       "      <td>1</td>\n",
       "      <td>0</td>\n",
       "      <td>1</td>\n",
       "      <td>0</td>\n",
       "      <td>0</td>\n",
       "      <td>1</td>\n",
       "      <td>0</td>\n",
       "      <td>1</td>\n",
       "      <td>0</td>\n",
       "    </tr>\n",
       "    <tr>\n",
       "      <th>1</th>\n",
       "      <td>-1</td>\n",
       "      <td>0.18</td>\n",
       "      <td>0</td>\n",
       "      <td>0.15520</td>\n",
       "      <td>1</td>\n",
       "      <td>3</td>\n",
       "      <td>1</td>\n",
       "      <td>1</td>\n",
       "      <td>0.31</td>\n",
       "      <td>1</td>\n",
       "      <td>2</td>\n",
       "      <td>1</td>\n",
       "      <td>1</td>\n",
       "      <td>1</td>\n",
       "      <td>0</td>\n",
       "      <td>1</td>\n",
       "      <td>0</td>\n",
       "      <td>0</td>\n",
       "      <td>1</td>\n",
       "      <td>0</td>\n",
       "    </tr>\n",
       "    <tr>\n",
       "      <th>2</th>\n",
       "      <td>-1</td>\n",
       "      <td>0.12</td>\n",
       "      <td>2</td>\n",
       "      <td>0.04510</td>\n",
       "      <td>1</td>\n",
       "      <td>3</td>\n",
       "      <td>1</td>\n",
       "      <td>4</td>\n",
       "      <td>0.21</td>\n",
       "      <td>1</td>\n",
       "      <td>2</td>\n",
       "      <td>1</td>\n",
       "      <td>0</td>\n",
       "      <td>1</td>\n",
       "      <td>0</td>\n",
       "      <td>1</td>\n",
       "      <td>0</td>\n",
       "      <td>1</td>\n",
       "      <td>1</td>\n",
       "      <td>8</td>\n",
       "    </tr>\n",
       "    <tr>\n",
       "      <th>3</th>\n",
       "      <td>-1</td>\n",
       "      <td>0.30</td>\n",
       "      <td>0</td>\n",
       "      <td>0.40360</td>\n",
       "      <td>0</td>\n",
       "      <td>1</td>\n",
       "      <td>1</td>\n",
       "      <td>3</td>\n",
       "      <td>0.25</td>\n",
       "      <td>3</td>\n",
       "      <td>2</td>\n",
       "      <td>1</td>\n",
       "      <td>0</td>\n",
       "      <td>1</td>\n",
       "      <td>0</td>\n",
       "      <td>0</td>\n",
       "      <td>1</td>\n",
       "      <td>0</td>\n",
       "      <td>1</td>\n",
       "      <td>0</td>\n",
       "    </tr>\n",
       "    <tr>\n",
       "      <th>4</th>\n",
       "      <td>0</td>\n",
       "      <td>0.36</td>\n",
       "      <td>2</td>\n",
       "      <td>0.09095</td>\n",
       "      <td>1</td>\n",
       "      <td>2</td>\n",
       "      <td>1</td>\n",
       "      <td>4</td>\n",
       "      <td>0.37</td>\n",
       "      <td>1</td>\n",
       "      <td>2</td>\n",
       "      <td>1</td>\n",
       "      <td>1</td>\n",
       "      <td>1</td>\n",
       "      <td>0</td>\n",
       "      <td>0</td>\n",
       "      <td>0</td>\n",
       "      <td>0</td>\n",
       "      <td>1</td>\n",
       "      <td>4</td>\n",
       "    </tr>\n",
       "  </tbody>\n",
       "</table>\n",
       "</div>"
      ],
      "text/plain": [
       "   account  duration  credit_history   amount  savings  employment  \\\n",
       "0        1      0.18               2  0.13110        2           2   \n",
       "1       -1      0.18               0  0.15520        1           3   \n",
       "2       -1      0.12               2  0.04510        1           3   \n",
       "3       -1      0.30               0  0.40360        0           1   \n",
       "4        0      0.36               2  0.09095        1           2   \n",
       "\n",
       "   guarantors  residence   age  credits_number  job  maintenance_people  \\\n",
       "0           1          4  0.34               1    2                   1   \n",
       "1           1          1  0.31               1    2                   1   \n",
       "2           1          4  0.21               1    2                   1   \n",
       "3           1          3  0.25               3    2                   1   \n",
       "4           1          4  0.37               1    2                   1   \n",
       "\n",
       "   telephone  foreign  real_estate  life_insurance  car  housing_rent  sex  \\\n",
       "0          0        1            0               0    1             0    1   \n",
       "1          1        1            0               1    0             0    1   \n",
       "2          0        1            0               1    0             1    1   \n",
       "3          0        1            0               0    1             0    1   \n",
       "4          1        1            0               0    0             0    1   \n",
       "\n",
       "   purpose  \n",
       "0        0  \n",
       "1        0  \n",
       "2        8  \n",
       "3        0  \n",
       "4        4  "
      ]
     },
     "execution_count": 41,
     "metadata": {},
     "output_type": "execute_result"
    }
   ],
   "source": [
    "X_le.head()"
   ]
  },
  {
   "cell_type": "code",
   "execution_count": 42,
   "metadata": {},
   "outputs": [
    {
     "name": "stderr",
     "output_type": "stream",
     "text": [
      "C:\\Users\\elena\\Anaconda3\\lib\\site-packages\\sklearn\\preprocessing\\data.py:617: DataConversionWarning: Data with input dtype int32, int64, float64 were all converted to float64 by StandardScaler.\n",
      "  return self.partial_fit(X, y)\n",
      "C:\\Users\\elena\\Anaconda3\\lib\\site-packages\\sklearn\\base.py:462: DataConversionWarning: Data with input dtype int32, int64, float64 were all converted to float64 by StandardScaler.\n",
      "  return self.fit(X, **fit_params).transform(X)\n",
      "C:\\Users\\elena\\Anaconda3\\lib\\site-packages\\ipykernel_launcher.py:3: DataConversionWarning: Data with input dtype int32, int64, float64 were all converted to float64 by StandardScaler.\n",
      "  This is separate from the ipykernel package so we can avoid doing imports until\n"
     ]
    }
   ],
   "source": [
    "scaler = StandardScaler()\n",
    "X_train_le = scaler.fit_transform(X_train_le)\n",
    "X_test_le = scaler.transform(X_test_le)"
   ]
  },
  {
   "cell_type": "code",
   "execution_count": 43,
   "metadata": {},
   "outputs": [],
   "source": [
    "def get_accuracy(clf):\n",
    "    clf.fit(X_train_le, y_train)\n",
    "    y_pred = clf.predict(X_test_le)\n",
    "    return accuracy_score(y_test, y_pred > 0.5)"
   ]
  },
  {
   "cell_type": "code",
   "execution_count": 44,
   "metadata": {},
   "outputs": [
    {
     "name": "stdout",
     "output_type": "stream",
     "text": [
      "0.65\n"
     ]
    }
   ],
   "source": [
    "print(get_accuracy(LinearRegression()))"
   ]
  },
  {
   "cell_type": "markdown",
   "metadata": {},
   "source": [
    "Посчитаем метрики нашей модели. Метрики разобранные на лекции уже реализованы в библиотеке scikit-learn."
   ]
  },
  {
   "cell_type": "code",
   "execution_count": 45,
   "metadata": {},
   "outputs": [],
   "source": [
    "from sklearn.metrics import precision_score, recall_score, confusion_matrix, f1_score"
   ]
  },
  {
   "cell_type": "code",
   "execution_count": 46,
   "metadata": {},
   "outputs": [
    {
     "data": {
      "text/plain": [
       "array([[53, 49],\n",
       "       [16, 62]], dtype=int64)"
      ]
     },
     "execution_count": 46,
     "metadata": {},
     "output_type": "execute_result"
    }
   ],
   "source": [
    "confusion_matrix(y_test, y_pred > 0.5)"
   ]
  },
  {
   "cell_type": "code",
   "execution_count": 52,
   "metadata": {},
   "outputs": [
    {
     "data": {
      "text/plain": [
       "0.49044585987261147"
      ]
     },
     "execution_count": 52,
     "metadata": {},
     "output_type": "execute_result"
    }
   ],
   "source": [
    "precision_score(y_test, y_pred > 0.3)"
   ]
  },
  {
   "cell_type": "code",
   "execution_count": 53,
   "metadata": {},
   "outputs": [
    {
     "data": {
      "text/plain": [
       "0.9871794871794872"
      ]
     },
     "execution_count": 53,
     "metadata": {},
     "output_type": "execute_result"
    }
   ],
   "source": [
    "recall_score(y_test, y_pred > 0.3)"
   ]
  },
  {
   "cell_type": "code",
   "execution_count": 49,
   "metadata": {},
   "outputs": [
    {
     "data": {
      "text/plain": [
       "0.656084656084656"
      ]
     },
     "execution_count": 49,
     "metadata": {},
     "output_type": "execute_result"
    }
   ],
   "source": [
    "f1_score(y_test, y_pred > 0.5)"
   ]
  },
  {
   "cell_type": "markdown",
   "metadata": {},
   "source": [
    "Порог 0.5 мы выбрали самостоятельно, и мы можем его менять. Как увелечиение порога отразится на precision/recall?\n",
    "\n",
    "На практике, перед нами всегда встает трейдофф - потерять часть сигнала взамен на большую точность или получить false positives взамен на больший recall."
   ]
  },
  {
   "cell_type": "markdown",
   "metadata": {},
   "source": [
    "Постройте на одном графике precision, recall и f1 score в зависимости от порога."
   ]
  },
  {
   "cell_type": "code",
   "execution_count": 56,
   "metadata": {},
   "outputs": [
    {
     "name": "stdout",
     "output_type": "stream",
     "text": [
      "Populating the interactive namespace from numpy and matplotlib\n"
     ]
    },
    {
     "data": {
      "image/png": "[encoded data removed]",
      "text/plain": [
       "<Figure size 432x288 with 1 Axes>"
      ]
     },
     "metadata": {
      "needs_background": "light"
     },
     "output_type": "display_data"
    }
   ],
   "source": [
    "from matplotlib import pylab as plt\n",
    "%pylab inline\n",
    "\n",
    "thresholds = np.linspace(0, 1, 100)\n",
    "\n",
    "precisions = []\n",
    "recalls = []\n",
    "f1s = []\n",
    "\n",
    "for thr in thresholds:\n",
    "    classes = y_pred > thr\n",
    "    \n",
    "    precisions.append(precision_score(y_test, classes))\n",
    "    recalls.append(recall_score(y_test, classes))\n",
    "    f1s.append(f1_score(y_test, classes))\n",
    "\n",
    "plt.plot(thresholds,precisions,label=\"precision\")\n",
    "plt.plot(thresholds,recalls,label=\"recall\")\n",
    "plt.plot(thresholds, f1s,label=\"f1-score\")\n",
    "plt.legend()\n",
    "plt.show()"
   ]
  },
  {
   "cell_type": "markdown",
   "metadata": {},
   "source": [
    "Какой порог соответствует максимизации f1 score?"
   ]
  },
  {
   "cell_type": "code",
   "execution_count": 58,
   "metadata": {},
   "outputs": [
    {
     "data": {
      "text/plain": [
       "0.4646464646464647"
      ]
     },
     "execution_count": 58,
     "metadata": {},
     "output_type": "execute_result"
    }
   ],
   "source": [
    "thresholds[np.argmax(f1s)]"
   ]
  },
  {
   "cell_type": "markdown",
   "metadata": {},
   "source": [
    "Обучите линейную регрессию с регуляризацией и подберите параметр регуляризации исходя из максимального f1-score (дома).\n",
    "\n",
    "**Комментарий:** \n",
    "\n",
    "1) для каждого значения параметра $\\alpha$ необходимо найти максимальный f1\n",
    "\n",
    "2) и затем найти $\\alpha$, максимизирующий f1."
   ]
  },
  {
   "cell_type": "code",
   "execution_count": null,
   "metadata": {},
   "outputs": [],
   "source": [
    "def get_max_f1(clf):\n",
    "    '''для классификатора clf найдите порог, дающий максимальный f1-score'''\n",
    "\n",
    "    #your code here\n",
    "    \n",
    "    return max_f1, threshold"
   ]
  },
  {
   "cell_type": "code",
   "execution_count": null,
   "metadata": {},
   "outputs": [],
   "source": [
    "from sklearn.linear_model import Ridge, Lasso\n",
    "\n",
    "alphas = np.linspace(0.01, 100.01, 1000)\n",
    "\n",
    "best_f1 = -1\n",
    "best_alpha = -1\n",
    "best_thr = -1\n",
    "\n",
    "for a in alphas:\n",
    "    f1, thr = get_max_f1(Lasso(alpha = a))\n",
    "    if f1 > best_f1:\n",
    "        best_f1, best_alpha, best_thr = f1, a, thr\n",
    "        \n",
    "best_f1, best_alpha"
   ]
  },
  {
   "cell_type": "markdown",
   "metadata": {},
   "source": [
    "### Визуализация confusion_matrix"
   ]
  },
  {
   "cell_type": "code",
   "execution_count": 59,
   "metadata": {},
   "outputs": [],
   "source": [
    "import itertools\n",
    "from sklearn.metrics import confusion_matrix\n",
    "\n",
    "def plot_confusion_matrix(cm, classes,\n",
    "                          normalize=False,\n",
    "                          title='Confusion matrix',\n",
    "                          cmap=plt.cm.Blues):\n",
    " \n",
    "    plt.imshow(cm, interpolation='nearest', cmap=cmap)\n",
    "    plt.title(title)\n",
    "    plt.colorbar()\n",
    "    tick_marks = np.arange(len(classes))\n",
    "    plt.xticks(tick_marks, classes, rotation=45)\n",
    "    plt.yticks(tick_marks, classes)\n",
    " \n",
    "    fmt = '.2f' if normalize else 'd'\n",
    "    thresh = cm.max() / 2.\n",
    "    for i, j in itertools.product(range(cm.shape[0]), range(cm.shape[1])):\n",
    "        plt.text(j, i, format(cm[i, j], fmt),\n",
    "                 horizontalalignment=\"center\",\n",
    "                 color=\"white\" if cm[i, j] > thresh else \"black\")\n",
    " \n",
    "    plt.tight_layout()\n",
    "    plt.ylabel('True label')\n",
    "    plt.xlabel('Predicted label')"
   ]
  },
  {
   "cell_type": "code",
   "execution_count": 60,
   "metadata": {},
   "outputs": [
    {
     "data": {
      "image/png": "[encoded data removed]",
      "text/plain": [
       "<Figure size 432x288 with 2 Axes>"
      ]
     },
     "metadata": {
      "needs_background": "light"
     },
     "output_type": "display_data"
    }
   ],
   "source": [
    "plot_confusion_matrix(confusion_matrix(y_test, y_pred > 0.5), classes=['0','1'],\n",
    "                        title='Confusion matrix, without normalization')"
   ]
  },
  {
   "cell_type": "markdown",
   "metadata": {},
   "source": [
    "Обучите регрессию с найденным коэффициентом регуляризации и найденным порогом, нарисуйте матрицу ошибок."
   ]
  },
  {
   "cell_type": "code",
   "execution_count": null,
   "metadata": {},
   "outputs": [],
   "source": [
    "#your code here"
   ]
  }
 ],
 "metadata": {
  "kernelspec": {
   "display_name": "Python 3",
   "language": "python",
   "name": "python3"
  },
  "language_info": {
   "codemirror_mode": {
    "name": "ipython",
    "version": 3
   },
   "file_extension": ".py",
   "mimetype": "text/x-python",
   "name": "python",
   "nbconvert_exporter": "python",
   "pygments_lexer": "ipython3",
   "version": "3.6.6"
  }
 },
 "nbformat": 4,
 "nbformat_minor": 2
}
